{
 "cells": [
  {
   "cell_type": "code",
   "execution_count": 25,
   "id": "6c3344eb",
   "metadata": {},
   "outputs": [],
   "source": [
    "import script"
   ]
  },
  {
   "cell_type": "code",
   "execution_count": 26,
   "id": "8ab0dc64",
   "metadata": {},
   "outputs": [
    {
     "name": "stdout",
     "output_type": "stream",
     "text": [
      "Hello! Rujal\n"
     ]
    }
   ],
   "source": [
    "script.sayHello('Rujal')"
   ]
  },
  {
   "cell_type": "code",
   "execution_count": 27,
   "id": "26b10584",
   "metadata": {},
   "outputs": [
    {
     "data": {
      "text/plain": [
       "['__builtins__',\n",
       " '__cached__',\n",
       " '__doc__',\n",
       " '__file__',\n",
       " '__loader__',\n",
       " '__name__',\n",
       " '__package__',\n",
       " '__spec__',\n",
       " 'sayHello']"
      ]
     },
     "execution_count": 27,
     "metadata": {},
     "output_type": "execute_result"
    }
   ],
   "source": [
    "dir(script)"
   ]
  },
  {
   "cell_type": "code",
   "execution_count": 28,
   "id": "adea3fb9",
   "metadata": {},
   "outputs": [
    {
     "data": {
      "text/plain": [
       "<function script.sayHello(name)>"
      ]
     },
     "execution_count": 28,
     "metadata": {},
     "output_type": "execute_result"
    }
   ],
   "source": [
    "script.sayHello"
   ]
  },
  {
   "cell_type": "code",
   "execution_count": 29,
   "id": "f9dc29d7",
   "metadata": {},
   "outputs": [],
   "source": [
    "station_names = [\"lighthouse\", \"Harmaja\", \"Suomenlinna aaltopoiju\", \"Kumpula\", \"Kaisaniemi\"]\n",
    "first_years = [2003, 1989, 2016, 2005, 1844]"
   ]
  },
  {
   "cell_type": "code",
   "execution_count": 30,
   "id": "5ac2930e",
   "metadata": {},
   "outputs": [],
   "source": [
    "station_names += ['Malmi airfield', 'Vusaari harbour', 'Kaivopuisto']\n",
    "first_years += [1937, 2012, 1904]"
   ]
  },
  {
   "cell_type": "code",
   "execution_count": 31,
   "id": "ee289705",
   "metadata": {},
   "outputs": [
    {
     "name": "stdout",
     "output_type": "stream",
     "text": [
      "['lighthouse', 'Harmaja', 'Suomenlinna aaltopoiju', 'Kumpula', 'Kaisaniemi', 'Malmi airfield', 'Vusaari harbour', 'Kaivopuisto'] [2003, 1989, 2016, 2005, 1844, 1937, 2012, 1904]\n"
     ]
    }
   ],
   "source": [
    "print(station_names, first_years)"
   ]
  },
  {
   "cell_type": "code",
   "execution_count": 32,
   "id": "31d19320",
   "metadata": {},
   "outputs": [],
   "source": [
    "stations_sorted = sorted(zip(station_names, first_years), key = lambda x: x[0])\n",
    "station_names_sorted = [x[0] for x in stations_sorted]\n",
    "start_years_sorted_by_name = [x[1] for x in stations_sorted]"
   ]
  },
  {
   "cell_type": "code",
   "execution_count": 33,
   "id": "6f73a2fa",
   "metadata": {},
   "outputs": [],
   "source": [
    "years_sorted = sorted(zip(station_names, first_years), key=lambda x: x[1], reverse=True)\n",
    "first_years_sorted = [x[1] for x in years_sorted]\n",
    "station_names_sorted_by_recent_years = [x[0] for x in years_sorted]"
   ]
  },
  {
   "cell_type": "code",
   "execution_count": 34,
   "id": "fb1694f3",
   "metadata": {},
   "outputs": [],
   "source": [
    "months = ['January',\n",
    "'February',\n",
    "'March',\n",
    "'April',\n",
    "'May',\n",
    "'June',\n",
    "'July',\n",
    "'August',\n",
    "'September',\n",
    "'October',\n",
    "'November',\n",
    "'December'\n",
    "]\n",
    "\n",
    "temperatures = [-3.5,-4.5,-1.0,4.0,10.0,15.0,18.0,16.0,11.5,6.0,2.0,-1.5]\n"
   ]
  },
  {
   "cell_type": "code",
   "execution_count": 35,
   "id": "d080a113",
   "metadata": {},
   "outputs": [],
   "source": [
    "average_temperatures = list(zip(months, temperatures))"
   ]
  },
  {
   "cell_type": "code",
   "execution_count": 36,
   "id": "3b3794b0",
   "metadata": {},
   "outputs": [],
   "source": [
    "def print_average_temperature(idx):\n",
    "  month, temp = average_temperatures[idx]\n",
    "  print(f\"The average temperature in Helsinki during {month} is {temp}\")"
   ]
  },
  {
   "cell_type": "code",
   "execution_count": 37,
   "id": "36fe534a",
   "metadata": {},
   "outputs": [
    {
     "name": "stdout",
     "output_type": "stream",
     "text": [
      "The average temperature in Helsinki during February is -4.5\n"
     ]
    }
   ],
   "source": [
    "print_average_temperature(1)"
   ]
  },
  {
   "cell_type": "code",
   "execution_count": 38,
   "id": "ccd0bf90",
   "metadata": {},
   "outputs": [
    {
     "name": "stdout",
     "output_type": "stream",
     "text": [
      "['Station_0.txt', 'Station_1.txt', 'Station_2.txt', 'Station_3.txt', 'Station_4.txt', 'Station_5.txt', 'Station_6.txt', 'Station_7.txt', 'Station_8.txt', 'Station_9.txt', 'Station_10.txt', 'Station_11.txt', 'Station_12.txt', 'Station_13.txt', 'Station_14.txt', 'Station_15.txt', 'Station_16.txt', 'Station_17.txt', 'Station_18.txt', 'Station_19.txt', 'Station_20.txt']\n"
     ]
    }
   ],
   "source": [
    "stations = [f\"Station_{i}.txt\" for i in range(21)]\n",
    "print(stations)"
   ]
  },
  {
   "cell_type": "code",
   "execution_count": 39,
   "id": "2d335a2f",
   "metadata": {},
   "outputs": [],
   "source": [
    "temperatures = [-5.4, 1.0, -1.3, -4.8, 3.9, 0.1, -4.4, 4.0, -2.2, -3.9, 4.4,\n",
    "                -2.5, -4.6, 5.1, 2.1, -2.4, 1.9, -3.3, -4.8, 1.0, -0.8, -2.8,\n",
    "                -0.1, -4.7, -5.6, 2.6, -2.7, -4.6, 3.4, -0.4, -0.9, 3.1, 2.4,\n",
    "                1.6, 4.2, 3.5, 2.6, 3.1, 2.2, 1.8, 3.3, 1.6, 1.5, 4.7, 4.0,\n",
    "                3.6, 4.9, 4.8, 5.3, 5.6, 4.1, 3.7, 7.6, 6.9, 5.1, 6.4, 3.8,\n",
    "                4.0, 8.6, 4.1, 1.4, 8.9, 3.0, 1.6, 8.5, 4.7, 6.6, 8.1, 4.5,\n",
    "                4.8, 11.3, 4.7, 5.2, 11.5, 6.2, 2.9, 4.3, 2.8, 2.8, 6.3, 2.6,\n",
    "                -0.0, 7.3, 3.4, 4.7, 9.3, 6.4, 5.4, 7.6, 5.2]"
   ]
  },
  {
   "cell_type": "code",
   "execution_count": 40,
   "metadata": {},
   "outputs": [],
   "source": [
    "import pandas as pd"
   ]
  },
  {
   "cell_type": "code",
   "execution_count": 41,
   "id": "fd62bcbc",
   "metadata": {},
   "outputs": [
    {
     "data": {
      "text/html": [
       "<div>\n",
       "<style scoped>\n",
       "    .dataframe tbody tr th:only-of-type {\n",
       "        vertical-align: middle;\n",
       "    }\n",
       "\n",
       "    .dataframe tbody tr th {\n",
       "        vertical-align: top;\n",
       "    }\n",
       "\n",
       "    .dataframe thead th {\n",
       "        text-align: right;\n",
       "    }\n",
       "</style>\n",
       "<table border=\"1\" class=\"dataframe\">\n",
       "  <thead>\n",
       "    <tr style=\"text-align: right;\">\n",
       "      <th></th>\n",
       "      <th>Observation station</th>\n",
       "      <th>Year</th>\n",
       "      <th>Month</th>\n",
       "      <th>Day</th>\n",
       "      <th>Time [Local time]</th>\n",
       "      <th>Average temperature [°C]</th>\n",
       "      <th>Maximum temperature [°C]</th>\n",
       "      <th>Minimum temperature [°C]</th>\n",
       "      <th>Minimum ground temperature [°C]</th>\n",
       "    </tr>\n",
       "  </thead>\n",
       "  <tbody>\n",
       "    <tr>\n",
       "      <th>0</th>\n",
       "      <td>Inari Seitalaassa</td>\n",
       "      <td>2024</td>\n",
       "      <td>7</td>\n",
       "      <td>17</td>\n",
       "      <td>03:00</td>\n",
       "      <td>20.8</td>\n",
       "      <td>25.3</td>\n",
       "      <td>17.2</td>\n",
       "      <td>-</td>\n",
       "    </tr>\n",
       "    <tr>\n",
       "      <th>1</th>\n",
       "      <td>Inari Seitalaassa</td>\n",
       "      <td>2024</td>\n",
       "      <td>7</td>\n",
       "      <td>18</td>\n",
       "      <td>03:00</td>\n",
       "      <td>19.3</td>\n",
       "      <td>23.6</td>\n",
       "      <td>16.5</td>\n",
       "      <td>-</td>\n",
       "    </tr>\n",
       "    <tr>\n",
       "      <th>2</th>\n",
       "      <td>Inari Seitalaassa</td>\n",
       "      <td>2024</td>\n",
       "      <td>7</td>\n",
       "      <td>19</td>\n",
       "      <td>03:00</td>\n",
       "      <td>17.3</td>\n",
       "      <td>20.4</td>\n",
       "      <td>14.6</td>\n",
       "      <td>-</td>\n",
       "    </tr>\n",
       "    <tr>\n",
       "      <th>3</th>\n",
       "      <td>Inari Seitalaassa</td>\n",
       "      <td>2024</td>\n",
       "      <td>7</td>\n",
       "      <td>20</td>\n",
       "      <td>03:00</td>\n",
       "      <td>20.2</td>\n",
       "      <td>25.5</td>\n",
       "      <td>16.5</td>\n",
       "      <td>-</td>\n",
       "    </tr>\n",
       "    <tr>\n",
       "      <th>4</th>\n",
       "      <td>Inari Seitalaassa</td>\n",
       "      <td>2024</td>\n",
       "      <td>7</td>\n",
       "      <td>21</td>\n",
       "      <td>03:00</td>\n",
       "      <td>22.6</td>\n",
       "      <td>27.7</td>\n",
       "      <td>17.2</td>\n",
       "      <td>-</td>\n",
       "    </tr>\n",
       "    <tr>\n",
       "      <th>5</th>\n",
       "      <td>Inari Seitalaassa</td>\n",
       "      <td>2024</td>\n",
       "      <td>7</td>\n",
       "      <td>22</td>\n",
       "      <td>03:00</td>\n",
       "      <td>22.5</td>\n",
       "      <td>25.4</td>\n",
       "      <td>20.2</td>\n",
       "      <td>-</td>\n",
       "    </tr>\n",
       "    <tr>\n",
       "      <th>6</th>\n",
       "      <td>Inari Seitalaassa</td>\n",
       "      <td>2024</td>\n",
       "      <td>7</td>\n",
       "      <td>23</td>\n",
       "      <td>03:00</td>\n",
       "      <td>22.7</td>\n",
       "      <td>27.0</td>\n",
       "      <td>19.9</td>\n",
       "      <td>-</td>\n",
       "    </tr>\n",
       "    <tr>\n",
       "      <th>7</th>\n",
       "      <td>Inari Seitalaassa</td>\n",
       "      <td>2024</td>\n",
       "      <td>7</td>\n",
       "      <td>24</td>\n",
       "      <td>03:00</td>\n",
       "      <td>22.5</td>\n",
       "      <td>26.6</td>\n",
       "      <td>20.1</td>\n",
       "      <td>-</td>\n",
       "    </tr>\n",
       "    <tr>\n",
       "      <th>8</th>\n",
       "      <td>Inari Seitalaassa</td>\n",
       "      <td>2024</td>\n",
       "      <td>7</td>\n",
       "      <td>25</td>\n",
       "      <td>03:00</td>\n",
       "      <td>19.3</td>\n",
       "      <td>23.9</td>\n",
       "      <td>15.3</td>\n",
       "      <td>-</td>\n",
       "    </tr>\n",
       "    <tr>\n",
       "      <th>9</th>\n",
       "      <td>Inari Seitalaassa</td>\n",
       "      <td>2024</td>\n",
       "      <td>7</td>\n",
       "      <td>26</td>\n",
       "      <td>03:00</td>\n",
       "      <td>22.5</td>\n",
       "      <td>26.0</td>\n",
       "      <td>17.8</td>\n",
       "      <td>-</td>\n",
       "    </tr>\n",
       "    <tr>\n",
       "      <th>10</th>\n",
       "      <td>Inari Seitalaassa</td>\n",
       "      <td>2024</td>\n",
       "      <td>7</td>\n",
       "      <td>27</td>\n",
       "      <td>03:00</td>\n",
       "      <td>22.0</td>\n",
       "      <td>26.2</td>\n",
       "      <td>18.7</td>\n",
       "      <td>-</td>\n",
       "    </tr>\n",
       "    <tr>\n",
       "      <th>11</th>\n",
       "      <td>Inari Seitalaassa</td>\n",
       "      <td>2024</td>\n",
       "      <td>7</td>\n",
       "      <td>28</td>\n",
       "      <td>03:00</td>\n",
       "      <td>20.3</td>\n",
       "      <td>24.5</td>\n",
       "      <td>18.9</td>\n",
       "      <td>-</td>\n",
       "    </tr>\n",
       "    <tr>\n",
       "      <th>12</th>\n",
       "      <td>Inari Seitalaassa</td>\n",
       "      <td>2024</td>\n",
       "      <td>7</td>\n",
       "      <td>29</td>\n",
       "      <td>03:00</td>\n",
       "      <td>17.2</td>\n",
       "      <td>20.1</td>\n",
       "      <td>16.5</td>\n",
       "      <td>-</td>\n",
       "    </tr>\n",
       "    <tr>\n",
       "      <th>13</th>\n",
       "      <td>Inari Seitalaassa</td>\n",
       "      <td>2024</td>\n",
       "      <td>7</td>\n",
       "      <td>30</td>\n",
       "      <td>03:00</td>\n",
       "      <td>14.9</td>\n",
       "      <td>17.8</td>\n",
       "      <td>13.3</td>\n",
       "      <td>-</td>\n",
       "    </tr>\n",
       "    <tr>\n",
       "      <th>14</th>\n",
       "      <td>Inari Seitalaassa</td>\n",
       "      <td>2024</td>\n",
       "      <td>7</td>\n",
       "      <td>31</td>\n",
       "      <td>03:00</td>\n",
       "      <td>14.5</td>\n",
       "      <td>16.5</td>\n",
       "      <td>13.4</td>\n",
       "      <td>-</td>\n",
       "    </tr>\n",
       "    <tr>\n",
       "      <th>15</th>\n",
       "      <td>Inari Seitalaassa</td>\n",
       "      <td>2024</td>\n",
       "      <td>8</td>\n",
       "      <td>1</td>\n",
       "      <td>03:00</td>\n",
       "      <td>12.8</td>\n",
       "      <td>15.1</td>\n",
       "      <td>11.7</td>\n",
       "      <td>-</td>\n",
       "    </tr>\n",
       "    <tr>\n",
       "      <th>16</th>\n",
       "      <td>Inari Seitalaassa</td>\n",
       "      <td>2024</td>\n",
       "      <td>8</td>\n",
       "      <td>2</td>\n",
       "      <td>03:00</td>\n",
       "      <td>13.4</td>\n",
       "      <td>16.4</td>\n",
       "      <td>11.7</td>\n",
       "      <td>-</td>\n",
       "    </tr>\n",
       "    <tr>\n",
       "      <th>17</th>\n",
       "      <td>Inari Seitalaassa</td>\n",
       "      <td>2024</td>\n",
       "      <td>8</td>\n",
       "      <td>3</td>\n",
       "      <td>03:00</td>\n",
       "      <td>14.0</td>\n",
       "      <td>17.2</td>\n",
       "      <td>11.9</td>\n",
       "      <td>-</td>\n",
       "    </tr>\n",
       "    <tr>\n",
       "      <th>18</th>\n",
       "      <td>Inari Seitalaassa</td>\n",
       "      <td>2024</td>\n",
       "      <td>8</td>\n",
       "      <td>4</td>\n",
       "      <td>03:00</td>\n",
       "      <td>13.6</td>\n",
       "      <td>19.2</td>\n",
       "      <td>9.9</td>\n",
       "      <td>-</td>\n",
       "    </tr>\n",
       "    <tr>\n",
       "      <th>19</th>\n",
       "      <td>Inari Seitalaassa</td>\n",
       "      <td>2024</td>\n",
       "      <td>8</td>\n",
       "      <td>5</td>\n",
       "      <td>03:00</td>\n",
       "      <td>14.9</td>\n",
       "      <td>18.2</td>\n",
       "      <td>12.0</td>\n",
       "      <td>-</td>\n",
       "    </tr>\n",
       "  </tbody>\n",
       "</table>\n",
       "</div>"
      ],
      "text/plain": [
       "   Observation station  Year  Month  Day Time [Local time]  \\\n",
       "0    Inari Seitalaassa  2024      7   17             03:00   \n",
       "1    Inari Seitalaassa  2024      7   18             03:00   \n",
       "2    Inari Seitalaassa  2024      7   19             03:00   \n",
       "3    Inari Seitalaassa  2024      7   20             03:00   \n",
       "4    Inari Seitalaassa  2024      7   21             03:00   \n",
       "5    Inari Seitalaassa  2024      7   22             03:00   \n",
       "6    Inari Seitalaassa  2024      7   23             03:00   \n",
       "7    Inari Seitalaassa  2024      7   24             03:00   \n",
       "8    Inari Seitalaassa  2024      7   25             03:00   \n",
       "9    Inari Seitalaassa  2024      7   26             03:00   \n",
       "10   Inari Seitalaassa  2024      7   27             03:00   \n",
       "11   Inari Seitalaassa  2024      7   28             03:00   \n",
       "12   Inari Seitalaassa  2024      7   29             03:00   \n",
       "13   Inari Seitalaassa  2024      7   30             03:00   \n",
       "14   Inari Seitalaassa  2024      7   31             03:00   \n",
       "15   Inari Seitalaassa  2024      8    1             03:00   \n",
       "16   Inari Seitalaassa  2024      8    2             03:00   \n",
       "17   Inari Seitalaassa  2024      8    3             03:00   \n",
       "18   Inari Seitalaassa  2024      8    4             03:00   \n",
       "19   Inari Seitalaassa  2024      8    5             03:00   \n",
       "\n",
       "    Average temperature [°C]  Maximum temperature [°C]  \\\n",
       "0                       20.8                      25.3   \n",
       "1                       19.3                      23.6   \n",
       "2                       17.3                      20.4   \n",
       "3                       20.2                      25.5   \n",
       "4                       22.6                      27.7   \n",
       "5                       22.5                      25.4   \n",
       "6                       22.7                      27.0   \n",
       "7                       22.5                      26.6   \n",
       "8                       19.3                      23.9   \n",
       "9                       22.5                      26.0   \n",
       "10                      22.0                      26.2   \n",
       "11                      20.3                      24.5   \n",
       "12                      17.2                      20.1   \n",
       "13                      14.9                      17.8   \n",
       "14                      14.5                      16.5   \n",
       "15                      12.8                      15.1   \n",
       "16                      13.4                      16.4   \n",
       "17                      14.0                      17.2   \n",
       "18                      13.6                      19.2   \n",
       "19                      14.9                      18.2   \n",
       "\n",
       "    Minimum temperature [°C] Minimum ground temperature [°C]  \n",
       "0                       17.2                               -  \n",
       "1                       16.5                               -  \n",
       "2                       14.6                               -  \n",
       "3                       16.5                               -  \n",
       "4                       17.2                               -  \n",
       "5                       20.2                               -  \n",
       "6                       19.9                               -  \n",
       "7                       20.1                               -  \n",
       "8                       15.3                               -  \n",
       "9                       17.8                               -  \n",
       "10                      18.7                               -  \n",
       "11                      18.9                               -  \n",
       "12                      16.5                               -  \n",
       "13                      13.3                               -  \n",
       "14                      13.4                               -  \n",
       "15                      11.7                               -  \n",
       "16                      11.7                               -  \n",
       "17                      11.9                               -  \n",
       "18                       9.9                               -  \n",
       "19                      12.0                               -  "
      ]
     },
     "execution_count": 41,
     "metadata": {},
     "output_type": "execute_result"
    }
   ],
   "source": [
    "df = pd.read_csv('temperatures.csv')\n",
    "df.head(20)"
   ]
  },
  {
   "cell_type": "code",
   "execution_count": 42,
   "id": "74b9d41b",
   "metadata": {},
   "outputs": [
    {
     "data": {
      "text/plain": [
       "365"
      ]
     },
     "execution_count": 42,
     "metadata": {},
     "output_type": "execute_result"
    }
   ],
   "source": [
    "len(df)"
   ]
  },
  {
   "cell_type": "code",
   "execution_count": 43,
   "id": "85d3773b",
   "metadata": {},
   "outputs": [
    {
     "data": {
      "text/plain": [
       "(365, 9)"
      ]
     },
     "execution_count": 43,
     "metadata": {},
     "output_type": "execute_result"
    }
   ],
   "source": [
    "df.shape"
   ]
  },
  {
   "cell_type": "code",
   "execution_count": 44,
   "id": "ace93438",
   "metadata": {},
   "outputs": [
    {
     "data": {
      "text/plain": [
       "array(['Observation station', 'Year', 'Month', 'Day', 'Time [Local time]',\n",
       "       'Average temperature [°C]', 'Maximum temperature [°C]',\n",
       "       'Minimum temperature [°C]', 'Minimum ground temperature [°C]'],\n",
       "      dtype=object)"
      ]
     },
     "execution_count": 44,
     "metadata": {},
     "output_type": "execute_result"
    }
   ],
   "source": [
    "df.columns.values"
   ]
  },
  {
   "cell_type": "code",
   "execution_count": 45,
   "id": "570b82d3",
   "metadata": {},
   "outputs": [
    {
     "data": {
      "text/plain": [
       "RangeIndex(start=0, stop=365, step=1)"
      ]
     },
     "execution_count": 45,
     "metadata": {},
     "output_type": "execute_result"
    }
   ],
   "source": [
    "df.index"
   ]
  },
  {
   "cell_type": "code",
   "execution_count": 46,
   "id": "d4965db3",
   "metadata": {},
   "outputs": [
    {
     "data": {
      "text/plain": [
       "9"
      ]
     },
     "execution_count": 46,
     "metadata": {},
     "output_type": "execute_result"
    }
   ],
   "source": [
    "len(df.columns)"
   ]
  },
  {
   "cell_type": "code",
   "execution_count": 47,
   "id": "06f39f74",
   "metadata": {},
   "outputs": [
    {
     "data": {
      "text/plain": [
       "array([2024, 2025])"
      ]
     },
     "execution_count": 47,
     "metadata": {},
     "output_type": "execute_result"
    }
   ],
   "source": [
    "df.Year.unique()"
   ]
  },
  {
   "cell_type": "code",
   "execution_count": 48,
   "id": "2edac6d3",
   "metadata": {},
   "outputs": [
    {
     "data": {
      "text/plain": [
       "np.float64(5.206301369863013)"
      ]
     },
     "execution_count": 48,
     "metadata": {},
     "output_type": "execute_result"
    }
   ],
   "source": [
    "df['Maximum temperature [°C]'].mean()"
   ]
  },
  {
   "cell_type": "code",
   "execution_count": 49,
   "id": "e4bbcc81",
   "metadata": {},
   "outputs": [],
   "source": [
    "df = pd.read_csv('kumpula-summer-2024.txt', comment='#')"
   ]
  },
  {
   "cell_type": "code",
   "execution_count": 50,
   "id": "87174121",
   "metadata": {},
   "outputs": [
    {
     "data": {
      "text/html": [
       "<div>\n",
       "<style scoped>\n",
       "    .dataframe tbody tr th:only-of-type {\n",
       "        vertical-align: middle;\n",
       "    }\n",
       "\n",
       "    .dataframe tbody tr th {\n",
       "        vertical-align: top;\n",
       "    }\n",
       "\n",
       "    .dataframe thead th {\n",
       "        text-align: right;\n",
       "    }\n",
       "</style>\n",
       "<table border=\"1\" class=\"dataframe\">\n",
       "  <thead>\n",
       "    <tr style=\"text-align: right;\">\n",
       "      <th></th>\n",
       "      <th>YEARMODA</th>\n",
       "      <th>MAX</th>\n",
       "      <th>MIN</th>\n",
       "      <th>TEMP1</th>\n",
       "      <th>TEMP2</th>\n",
       "    </tr>\n",
       "  </thead>\n",
       "  <tbody>\n",
       "    <tr>\n",
       "      <th>0</th>\n",
       "      <td>20240601</td>\n",
       "      <td>26.2</td>\n",
       "      <td>18.4</td>\n",
       "      <td>24.2</td>\n",
       "      <td>23.2</td>\n",
       "    </tr>\n",
       "    <tr>\n",
       "      <th>1</th>\n",
       "      <td>20240602</td>\n",
       "      <td>24.4</td>\n",
       "      <td>17.1</td>\n",
       "      <td>20.7</td>\n",
       "      <td>24.2</td>\n",
       "    </tr>\n",
       "    <tr>\n",
       "      <th>2</th>\n",
       "      <td>20240603</td>\n",
       "      <td>25.7</td>\n",
       "      <td>15.2</td>\n",
       "      <td>22.5</td>\n",
       "      <td>23.1</td>\n",
       "    </tr>\n",
       "    <tr>\n",
       "      <th>3</th>\n",
       "      <td>20240604</td>\n",
       "      <td>24.6</td>\n",
       "      <td>15.7</td>\n",
       "      <td>19.3</td>\n",
       "      <td>24.6</td>\n",
       "    </tr>\n",
       "    <tr>\n",
       "      <th>4</th>\n",
       "      <td>20240605</td>\n",
       "      <td>23.4</td>\n",
       "      <td>12.8</td>\n",
       "      <td>20.3</td>\n",
       "      <td>23.2</td>\n",
       "    </tr>\n",
       "  </tbody>\n",
       "</table>\n",
       "</div>"
      ],
      "text/plain": [
       "   YEARMODA   MAX   MIN  TEMP1  TEMP2\n",
       "0  20240601  26.2  18.4   24.2   23.2\n",
       "1  20240602  24.4  17.1   20.7   24.2\n",
       "2  20240603  25.7  15.2   22.5   23.1\n",
       "3  20240604  24.6  15.7   19.3   24.6\n",
       "4  20240605  23.4  12.8   20.3   23.2"
      ]
     },
     "execution_count": 50,
     "metadata": {},
     "output_type": "execute_result"
    }
   ],
   "source": [
    "df.head()\n"
   ]
  },
  {
   "cell_type": "code",
   "execution_count": 51,
   "id": "909f9a4b",
   "metadata": {},
   "outputs": [],
   "source": [
    "df['Diff'] = 0.0"
   ]
  },
  {
   "cell_type": "code",
   "execution_count": 52,
   "id": "1637979b",
   "metadata": {},
   "outputs": [
    {
     "data": {
      "text/html": [
       "<div>\n",
       "<style scoped>\n",
       "    .dataframe tbody tr th:only-of-type {\n",
       "        vertical-align: middle;\n",
       "    }\n",
       "\n",
       "    .dataframe tbody tr th {\n",
       "        vertical-align: top;\n",
       "    }\n",
       "\n",
       "    .dataframe thead th {\n",
       "        text-align: right;\n",
       "    }\n",
       "</style>\n",
       "<table border=\"1\" class=\"dataframe\">\n",
       "  <thead>\n",
       "    <tr style=\"text-align: right;\">\n",
       "      <th></th>\n",
       "      <th>YEARMODA</th>\n",
       "      <th>MAX</th>\n",
       "      <th>MIN</th>\n",
       "      <th>TEMP1</th>\n",
       "      <th>TEMP2</th>\n",
       "      <th>Diff</th>\n",
       "    </tr>\n",
       "  </thead>\n",
       "  <tbody>\n",
       "    <tr>\n",
       "      <th>0</th>\n",
       "      <td>20240601</td>\n",
       "      <td>26.2</td>\n",
       "      <td>18.4</td>\n",
       "      <td>24.2</td>\n",
       "      <td>23.2</td>\n",
       "      <td>0.0</td>\n",
       "    </tr>\n",
       "    <tr>\n",
       "      <th>1</th>\n",
       "      <td>20240602</td>\n",
       "      <td>24.4</td>\n",
       "      <td>17.1</td>\n",
       "      <td>20.7</td>\n",
       "      <td>24.2</td>\n",
       "      <td>0.0</td>\n",
       "    </tr>\n",
       "    <tr>\n",
       "      <th>2</th>\n",
       "      <td>20240603</td>\n",
       "      <td>25.7</td>\n",
       "      <td>15.2</td>\n",
       "      <td>22.5</td>\n",
       "      <td>23.1</td>\n",
       "      <td>0.0</td>\n",
       "    </tr>\n",
       "    <tr>\n",
       "      <th>3</th>\n",
       "      <td>20240604</td>\n",
       "      <td>24.6</td>\n",
       "      <td>15.7</td>\n",
       "      <td>19.3</td>\n",
       "      <td>24.6</td>\n",
       "      <td>0.0</td>\n",
       "    </tr>\n",
       "    <tr>\n",
       "      <th>4</th>\n",
       "      <td>20240605</td>\n",
       "      <td>23.4</td>\n",
       "      <td>12.8</td>\n",
       "      <td>20.3</td>\n",
       "      <td>23.2</td>\n",
       "      <td>0.0</td>\n",
       "    </tr>\n",
       "  </tbody>\n",
       "</table>\n",
       "</div>"
      ],
      "text/plain": [
       "   YEARMODA   MAX   MIN  TEMP1  TEMP2  Diff\n",
       "0  20240601  26.2  18.4   24.2   23.2   0.0\n",
       "1  20240602  24.4  17.1   20.7   24.2   0.0\n",
       "2  20240603  25.7  15.2   22.5   23.1   0.0\n",
       "3  20240604  24.6  15.7   19.3   24.6   0.0\n",
       "4  20240605  23.4  12.8   20.3   23.2   0.0"
      ]
     },
     "execution_count": 52,
     "metadata": {},
     "output_type": "execute_result"
    }
   ],
   "source": [
    "df.head()"
   ]
  },
  {
   "cell_type": "code",
   "execution_count": 53,
   "id": "e91a8499",
   "metadata": {},
   "outputs": [
    {
     "data": {
      "text/html": [
       "<div>\n",
       "<style scoped>\n",
       "    .dataframe tbody tr th:only-of-type {\n",
       "        vertical-align: middle;\n",
       "    }\n",
       "\n",
       "    .dataframe tbody tr th {\n",
       "        vertical-align: top;\n",
       "    }\n",
       "\n",
       "    .dataframe thead th {\n",
       "        text-align: right;\n",
       "    }\n",
       "</style>\n",
       "<table border=\"1\" class=\"dataframe\">\n",
       "  <thead>\n",
       "    <tr style=\"text-align: right;\">\n",
       "      <th></th>\n",
       "      <th>YEARMODA</th>\n",
       "      <th>MAX</th>\n",
       "      <th>MIN</th>\n",
       "      <th>TEMP1</th>\n",
       "      <th>TEMP2</th>\n",
       "      <th>Diff</th>\n",
       "    </tr>\n",
       "  </thead>\n",
       "  <tbody>\n",
       "    <tr>\n",
       "      <th>0</th>\n",
       "      <td>20240601</td>\n",
       "      <td>26.2</td>\n",
       "      <td>18.4</td>\n",
       "      <td>24.2</td>\n",
       "      <td>23.2</td>\n",
       "      <td>7.8</td>\n",
       "    </tr>\n",
       "    <tr>\n",
       "      <th>1</th>\n",
       "      <td>20240602</td>\n",
       "      <td>24.4</td>\n",
       "      <td>17.1</td>\n",
       "      <td>20.7</td>\n",
       "      <td>24.2</td>\n",
       "      <td>7.3</td>\n",
       "    </tr>\n",
       "    <tr>\n",
       "      <th>2</th>\n",
       "      <td>20240603</td>\n",
       "      <td>25.7</td>\n",
       "      <td>15.2</td>\n",
       "      <td>22.5</td>\n",
       "      <td>23.1</td>\n",
       "      <td>10.5</td>\n",
       "    </tr>\n",
       "    <tr>\n",
       "      <th>3</th>\n",
       "      <td>20240604</td>\n",
       "      <td>24.6</td>\n",
       "      <td>15.7</td>\n",
       "      <td>19.3</td>\n",
       "      <td>24.6</td>\n",
       "      <td>8.9</td>\n",
       "    </tr>\n",
       "    <tr>\n",
       "      <th>4</th>\n",
       "      <td>20240605</td>\n",
       "      <td>23.4</td>\n",
       "      <td>12.8</td>\n",
       "      <td>20.3</td>\n",
       "      <td>23.2</td>\n",
       "      <td>10.6</td>\n",
       "    </tr>\n",
       "  </tbody>\n",
       "</table>\n",
       "</div>"
      ],
      "text/plain": [
       "   YEARMODA   MAX   MIN  TEMP1  TEMP2  Diff\n",
       "0  20240601  26.2  18.4   24.2   23.2   7.8\n",
       "1  20240602  24.4  17.1   20.7   24.2   7.3\n",
       "2  20240603  25.7  15.2   22.5   23.1  10.5\n",
       "3  20240604  24.6  15.7   19.3   24.6   8.9\n",
       "4  20240605  23.4  12.8   20.3   23.2  10.6"
      ]
     },
     "execution_count": 53,
     "metadata": {},
     "output_type": "execute_result"
    }
   ],
   "source": [
    "df['Diff'] = df['MAX'] - df['MIN']\n",
    "df.head()"
   ]
  },
  {
   "cell_type": "code",
   "execution_count": 54,
   "id": "9ebd684c",
   "metadata": {},
   "outputs": [
    {
     "data": {
      "text/html": [
       "<div>\n",
       "<style scoped>\n",
       "    .dataframe tbody tr th:only-of-type {\n",
       "        vertical-align: middle;\n",
       "    }\n",
       "\n",
       "    .dataframe tbody tr th {\n",
       "        vertical-align: top;\n",
       "    }\n",
       "\n",
       "    .dataframe thead th {\n",
       "        text-align: right;\n",
       "    }\n",
       "</style>\n",
       "<table border=\"1\" class=\"dataframe\">\n",
       "  <thead>\n",
       "    <tr style=\"text-align: right;\">\n",
       "      <th></th>\n",
       "      <th>YEARMODA</th>\n",
       "      <th>MAX</th>\n",
       "      <th>MIN</th>\n",
       "      <th>TEMP1</th>\n",
       "      <th>TEMP2</th>\n",
       "      <th>Diff</th>\n",
       "      <th>Temp</th>\n",
       "    </tr>\n",
       "  </thead>\n",
       "  <tbody>\n",
       "    <tr>\n",
       "      <th>0</th>\n",
       "      <td>20240601</td>\n",
       "      <td>26.2</td>\n",
       "      <td>18.4</td>\n",
       "      <td>24.2</td>\n",
       "      <td>23.2</td>\n",
       "      <td>7.8</td>\n",
       "      <td>23.70</td>\n",
       "    </tr>\n",
       "    <tr>\n",
       "      <th>1</th>\n",
       "      <td>20240602</td>\n",
       "      <td>24.4</td>\n",
       "      <td>17.1</td>\n",
       "      <td>20.7</td>\n",
       "      <td>24.2</td>\n",
       "      <td>7.3</td>\n",
       "      <td>22.45</td>\n",
       "    </tr>\n",
       "    <tr>\n",
       "      <th>2</th>\n",
       "      <td>20240603</td>\n",
       "      <td>25.7</td>\n",
       "      <td>15.2</td>\n",
       "      <td>22.5</td>\n",
       "      <td>23.1</td>\n",
       "      <td>10.5</td>\n",
       "      <td>22.80</td>\n",
       "    </tr>\n",
       "    <tr>\n",
       "      <th>3</th>\n",
       "      <td>20240604</td>\n",
       "      <td>24.6</td>\n",
       "      <td>15.7</td>\n",
       "      <td>19.3</td>\n",
       "      <td>24.6</td>\n",
       "      <td>8.9</td>\n",
       "      <td>21.95</td>\n",
       "    </tr>\n",
       "    <tr>\n",
       "      <th>4</th>\n",
       "      <td>20240605</td>\n",
       "      <td>23.4</td>\n",
       "      <td>12.8</td>\n",
       "      <td>20.3</td>\n",
       "      <td>23.2</td>\n",
       "      <td>10.6</td>\n",
       "      <td>21.75</td>\n",
       "    </tr>\n",
       "  </tbody>\n",
       "</table>\n",
       "</div>"
      ],
      "text/plain": [
       "   YEARMODA   MAX   MIN  TEMP1  TEMP2  Diff   Temp\n",
       "0  20240601  26.2  18.4   24.2   23.2   7.8  23.70\n",
       "1  20240602  24.4  17.1   20.7   24.2   7.3  22.45\n",
       "2  20240603  25.7  15.2   22.5   23.1  10.5  22.80\n",
       "3  20240604  24.6  15.7   19.3   24.6   8.9  21.95\n",
       "4  20240605  23.4  12.8   20.3   23.2  10.6  21.75"
      ]
     },
     "execution_count": 54,
     "metadata": {},
     "output_type": "execute_result"
    }
   ],
   "source": [
    "df['Temp'] = (df['TEMP1'] + df['TEMP2']) / 2\n",
    "df.head()"
   ]
  },
  {
   "cell_type": "markdown",
   "id": "a6c7ab21",
   "metadata": {},
   "source": [
    "Calculate the mean temperature for the last seven days of August 2024. Do the selection using the row index values."
   ]
  },
  {
   "cell_type": "code",
   "execution_count": 55,
   "id": "ae7c67f0",
   "metadata": {},
   "outputs": [
    {
     "data": {
      "text/plain": [
       "np.float64(19.671428571428574)"
      ]
     },
     "execution_count": 55,
     "metadata": {},
     "output_type": "execute_result"
    }
   ],
   "source": [
    "df.loc[85:91, \"Temp\"].mean()"
   ]
  },
  {
   "cell_type": "code",
   "execution_count": 56,
   "id": "461bf27a",
   "metadata": {},
   "outputs": [
    {
     "data": {
      "text/html": [
       "<div>\n",
       "<style scoped>\n",
       "    .dataframe tbody tr th:only-of-type {\n",
       "        vertical-align: middle;\n",
       "    }\n",
       "\n",
       "    .dataframe tbody tr th {\n",
       "        vertical-align: top;\n",
       "    }\n",
       "\n",
       "    .dataframe thead th {\n",
       "        text-align: right;\n",
       "    }\n",
       "</style>\n",
       "<table border=\"1\" class=\"dataframe\">\n",
       "  <thead>\n",
       "    <tr style=\"text-align: right;\">\n",
       "      <th></th>\n",
       "      <th>YEARMODA</th>\n",
       "      <th>MAX</th>\n",
       "      <th>MIN</th>\n",
       "      <th>TEMP1</th>\n",
       "      <th>TEMP2</th>\n",
       "      <th>Diff</th>\n",
       "      <th>Temp</th>\n",
       "    </tr>\n",
       "  </thead>\n",
       "  <tbody>\n",
       "    <tr>\n",
       "      <th>0</th>\n",
       "      <td>20240601</td>\n",
       "      <td>26.2</td>\n",
       "      <td>18.4</td>\n",
       "      <td>24.2</td>\n",
       "      <td>23.2</td>\n",
       "      <td>7.8</td>\n",
       "      <td>23.70</td>\n",
       "    </tr>\n",
       "    <tr>\n",
       "      <th>2</th>\n",
       "      <td>20240603</td>\n",
       "      <td>25.7</td>\n",
       "      <td>15.2</td>\n",
       "      <td>22.5</td>\n",
       "      <td>23.1</td>\n",
       "      <td>10.5</td>\n",
       "      <td>22.80</td>\n",
       "    </tr>\n",
       "    <tr>\n",
       "      <th>24</th>\n",
       "      <td>20240625</td>\n",
       "      <td>25.7</td>\n",
       "      <td>12.3</td>\n",
       "      <td>20.6</td>\n",
       "      <td>25.0</td>\n",
       "      <td>13.4</td>\n",
       "      <td>22.80</td>\n",
       "    </tr>\n",
       "    <tr>\n",
       "      <th>25</th>\n",
       "      <td>20240626</td>\n",
       "      <td>25.7</td>\n",
       "      <td>15.9</td>\n",
       "      <td>22.2</td>\n",
       "      <td>25.5</td>\n",
       "      <td>9.8</td>\n",
       "      <td>23.85</td>\n",
       "    </tr>\n",
       "    <tr>\n",
       "      <th>27</th>\n",
       "      <td>20240628</td>\n",
       "      <td>27.2</td>\n",
       "      <td>17.0</td>\n",
       "      <td>25.4</td>\n",
       "      <td>27.2</td>\n",
       "      <td>10.2</td>\n",
       "      <td>26.30</td>\n",
       "    </tr>\n",
       "    <tr>\n",
       "      <th>51</th>\n",
       "      <td>20240722</td>\n",
       "      <td>25.1</td>\n",
       "      <td>16.9</td>\n",
       "      <td>22.3</td>\n",
       "      <td>24.7</td>\n",
       "      <td>8.2</td>\n",
       "      <td>23.50</td>\n",
       "    </tr>\n",
       "    <tr>\n",
       "      <th>54</th>\n",
       "      <td>20240725</td>\n",
       "      <td>26.1</td>\n",
       "      <td>18.5</td>\n",
       "      <td>22.3</td>\n",
       "      <td>26.1</td>\n",
       "      <td>7.6</td>\n",
       "      <td>24.20</td>\n",
       "    </tr>\n",
       "    <tr>\n",
       "      <th>55</th>\n",
       "      <td>20240726</td>\n",
       "      <td>26.7</td>\n",
       "      <td>17.9</td>\n",
       "      <td>24.3</td>\n",
       "      <td>26.4</td>\n",
       "      <td>8.8</td>\n",
       "      <td>25.35</td>\n",
       "    </tr>\n",
       "    <tr>\n",
       "      <th>56</th>\n",
       "      <td>20240727</td>\n",
       "      <td>25.1</td>\n",
       "      <td>NaN</td>\n",
       "      <td>22.7</td>\n",
       "      <td>24.8</td>\n",
       "      <td>NaN</td>\n",
       "      <td>23.75</td>\n",
       "    </tr>\n",
       "    <tr>\n",
       "      <th>85</th>\n",
       "      <td>20240825</td>\n",
       "      <td>25.9</td>\n",
       "      <td>14.4</td>\n",
       "      <td>19.0</td>\n",
       "      <td>25.9</td>\n",
       "      <td>11.5</td>\n",
       "      <td>22.45</td>\n",
       "    </tr>\n",
       "  </tbody>\n",
       "</table>\n",
       "</div>"
      ],
      "text/plain": [
       "    YEARMODA   MAX   MIN  TEMP1  TEMP2  Diff   Temp\n",
       "0   20240601  26.2  18.4   24.2   23.2   7.8  23.70\n",
       "2   20240603  25.7  15.2   22.5   23.1  10.5  22.80\n",
       "24  20240625  25.7  12.3   20.6   25.0  13.4  22.80\n",
       "25  20240626  25.7  15.9   22.2   25.5   9.8  23.85\n",
       "27  20240628  27.2  17.0   25.4   27.2  10.2  26.30\n",
       "51  20240722  25.1  16.9   22.3   24.7   8.2  23.50\n",
       "54  20240725  26.1  18.5   22.3   26.1   7.6  24.20\n",
       "55  20240726  26.7  17.9   24.3   26.4   8.8  25.35\n",
       "56  20240727  25.1   NaN   22.7   24.8   NaN  23.75\n",
       "85  20240825  25.9  14.4   19.0   25.9  11.5  22.45"
      ]
     },
     "execution_count": 56,
     "metadata": {},
     "output_type": "execute_result"
    }
   ],
   "source": [
    "hot_temps = df[df['MAX'] > 25]\n",
    "hot_temps"
   ]
  },
  {
   "cell_type": "code",
   "execution_count": 57,
   "id": "32cf5eae",
   "metadata": {},
   "outputs": [
    {
     "data": {
      "text/plain": [
       "10"
      ]
     },
     "execution_count": 57,
     "metadata": {},
     "output_type": "execute_result"
    }
   ],
   "source": [
    "len(hot_temps)"
   ]
  },
  {
   "cell_type": "code",
   "execution_count": 58,
   "id": "35a9ba9a",
   "metadata": {},
   "outputs": [
    {
     "data": {
      "text/plain": [
       "False"
      ]
     },
     "execution_count": 58,
     "metadata": {},
     "output_type": "execute_result"
    }
   ],
   "source": [
    "hot_temps.MAX.hasnans"
   ]
  },
  {
   "cell_type": "code",
   "execution_count": 59,
   "id": "41eedfbb",
   "metadata": {},
   "outputs": [
    {
     "data": {
      "text/plain": [
       "True"
      ]
     },
     "execution_count": 59,
     "metadata": {},
     "output_type": "execute_result"
    }
   ],
   "source": [
    "hot_temps.MIN.hasnans"
   ]
  },
  {
   "cell_type": "code",
   "execution_count": 61,
   "id": "9f766bd8",
   "metadata": {},
   "outputs": [
    {
     "data": {
      "text/html": [
       "<div>\n",
       "<style scoped>\n",
       "    .dataframe tbody tr th:only-of-type {\n",
       "        vertical-align: middle;\n",
       "    }\n",
       "\n",
       "    .dataframe tbody tr th {\n",
       "        vertical-align: top;\n",
       "    }\n",
       "\n",
       "    .dataframe thead th {\n",
       "        text-align: right;\n",
       "    }\n",
       "</style>\n",
       "<table border=\"1\" class=\"dataframe\">\n",
       "  <thead>\n",
       "    <tr style=\"text-align: right;\">\n",
       "      <th></th>\n",
       "      <th>YEARMODA</th>\n",
       "      <th>MAX</th>\n",
       "      <th>MIN</th>\n",
       "      <th>TEMP1</th>\n",
       "      <th>TEMP2</th>\n",
       "      <th>Diff</th>\n",
       "      <th>Temp</th>\n",
       "    </tr>\n",
       "  </thead>\n",
       "  <tbody>\n",
       "    <tr>\n",
       "      <th>0</th>\n",
       "      <td>20240601</td>\n",
       "      <td>26.2</td>\n",
       "      <td>18.4</td>\n",
       "      <td>24.2</td>\n",
       "      <td>23.2</td>\n",
       "      <td>7.8</td>\n",
       "      <td>23.70</td>\n",
       "    </tr>\n",
       "    <tr>\n",
       "      <th>1</th>\n",
       "      <td>20240602</td>\n",
       "      <td>24.4</td>\n",
       "      <td>17.1</td>\n",
       "      <td>20.7</td>\n",
       "      <td>24.2</td>\n",
       "      <td>7.3</td>\n",
       "      <td>22.45</td>\n",
       "    </tr>\n",
       "    <tr>\n",
       "      <th>2</th>\n",
       "      <td>20240603</td>\n",
       "      <td>25.7</td>\n",
       "      <td>15.2</td>\n",
       "      <td>22.5</td>\n",
       "      <td>23.1</td>\n",
       "      <td>10.5</td>\n",
       "      <td>22.80</td>\n",
       "    </tr>\n",
       "    <tr>\n",
       "      <th>3</th>\n",
       "      <td>20240604</td>\n",
       "      <td>24.6</td>\n",
       "      <td>15.7</td>\n",
       "      <td>19.3</td>\n",
       "      <td>24.6</td>\n",
       "      <td>8.9</td>\n",
       "      <td>21.95</td>\n",
       "    </tr>\n",
       "    <tr>\n",
       "      <th>4</th>\n",
       "      <td>20240605</td>\n",
       "      <td>23.4</td>\n",
       "      <td>12.8</td>\n",
       "      <td>20.3</td>\n",
       "      <td>23.2</td>\n",
       "      <td>10.6</td>\n",
       "      <td>21.75</td>\n",
       "    </tr>\n",
       "  </tbody>\n",
       "</table>\n",
       "</div>"
      ],
      "text/plain": [
       "   YEARMODA   MAX   MIN  TEMP1  TEMP2  Diff   Temp\n",
       "0  20240601  26.2  18.4   24.2   23.2   7.8  23.70\n",
       "1  20240602  24.4  17.1   20.7   24.2   7.3  22.45\n",
       "2  20240603  25.7  15.2   22.5   23.1  10.5  22.80\n",
       "3  20240604  24.6  15.7   19.3   24.6   8.9  21.95\n",
       "4  20240605  23.4  12.8   20.3   23.2  10.6  21.75"
      ]
     },
     "execution_count": 61,
     "metadata": {},
     "output_type": "execute_result"
    }
   ],
   "source": [
    "df.head()"
   ]
  },
  {
   "cell_type": "code",
   "execution_count": 64,
   "id": "1b103122",
   "metadata": {},
   "outputs": [
    {
     "data": {
      "text/html": [
       "<div>\n",
       "<style scoped>\n",
       "    .dataframe tbody tr th:only-of-type {\n",
       "        vertical-align: middle;\n",
       "    }\n",
       "\n",
       "    .dataframe tbody tr th {\n",
       "        vertical-align: top;\n",
       "    }\n",
       "\n",
       "    .dataframe thead th {\n",
       "        text-align: right;\n",
       "    }\n",
       "</style>\n",
       "<table border=\"1\" class=\"dataframe\">\n",
       "  <thead>\n",
       "    <tr style=\"text-align: right;\">\n",
       "      <th></th>\n",
       "      <th>YEARMODA</th>\n",
       "      <th>MAX</th>\n",
       "      <th>MIN</th>\n",
       "      <th>TEMP1</th>\n",
       "      <th>TEMP2</th>\n",
       "      <th>Diff</th>\n",
       "      <th>Temp</th>\n",
       "      <th>YEARMODA_STR</th>\n",
       "    </tr>\n",
       "  </thead>\n",
       "  <tbody>\n",
       "    <tr>\n",
       "      <th>0</th>\n",
       "      <td>20240601</td>\n",
       "      <td>26.2</td>\n",
       "      <td>18.4</td>\n",
       "      <td>24.2</td>\n",
       "      <td>23.2</td>\n",
       "      <td>7.8</td>\n",
       "      <td>23.70</td>\n",
       "      <td>20240601</td>\n",
       "    </tr>\n",
       "    <tr>\n",
       "      <th>1</th>\n",
       "      <td>20240602</td>\n",
       "      <td>24.4</td>\n",
       "      <td>17.1</td>\n",
       "      <td>20.7</td>\n",
       "      <td>24.2</td>\n",
       "      <td>7.3</td>\n",
       "      <td>22.45</td>\n",
       "      <td>20240602</td>\n",
       "    </tr>\n",
       "    <tr>\n",
       "      <th>2</th>\n",
       "      <td>20240603</td>\n",
       "      <td>25.7</td>\n",
       "      <td>15.2</td>\n",
       "      <td>22.5</td>\n",
       "      <td>23.1</td>\n",
       "      <td>10.5</td>\n",
       "      <td>22.80</td>\n",
       "      <td>20240603</td>\n",
       "    </tr>\n",
       "    <tr>\n",
       "      <th>3</th>\n",
       "      <td>20240604</td>\n",
       "      <td>24.6</td>\n",
       "      <td>15.7</td>\n",
       "      <td>19.3</td>\n",
       "      <td>24.6</td>\n",
       "      <td>8.9</td>\n",
       "      <td>21.95</td>\n",
       "      <td>20240604</td>\n",
       "    </tr>\n",
       "    <tr>\n",
       "      <th>4</th>\n",
       "      <td>20240605</td>\n",
       "      <td>23.4</td>\n",
       "      <td>12.8</td>\n",
       "      <td>20.3</td>\n",
       "      <td>23.2</td>\n",
       "      <td>10.6</td>\n",
       "      <td>21.75</td>\n",
       "      <td>20240605</td>\n",
       "    </tr>\n",
       "  </tbody>\n",
       "</table>\n",
       "</div>"
      ],
      "text/plain": [
       "   YEARMODA   MAX   MIN  TEMP1  TEMP2  Diff   Temp YEARMODA_STR\n",
       "0  20240601  26.2  18.4   24.2   23.2   7.8  23.70     20240601\n",
       "1  20240602  24.4  17.1   20.7   24.2   7.3  22.45     20240602\n",
       "2  20240603  25.7  15.2   22.5   23.1  10.5  22.80     20240603\n",
       "3  20240604  24.6  15.7   19.3   24.6   8.9  21.95     20240604\n",
       "4  20240605  23.4  12.8   20.3   23.2  10.6  21.75     20240605"
      ]
     },
     "execution_count": 64,
     "metadata": {},
     "output_type": "execute_result"
    }
   ],
   "source": [
    "df['YEARMODA_STR'] = df[\"YEARMODA\"].astype(str)\n",
    "df.head()"
   ]
  },
  {
   "cell_type": "code",
   "execution_count": 65,
   "id": "1b66c7a6",
   "metadata": {},
   "outputs": [
    {
     "data": {
      "text/html": [
       "<div>\n",
       "<style scoped>\n",
       "    .dataframe tbody tr th:only-of-type {\n",
       "        vertical-align: middle;\n",
       "    }\n",
       "\n",
       "    .dataframe tbody tr th {\n",
       "        vertical-align: top;\n",
       "    }\n",
       "\n",
       "    .dataframe thead th {\n",
       "        text-align: right;\n",
       "    }\n",
       "</style>\n",
       "<table border=\"1\" class=\"dataframe\">\n",
       "  <thead>\n",
       "    <tr style=\"text-align: right;\">\n",
       "      <th></th>\n",
       "      <th>YEARMODA</th>\n",
       "      <th>MAX</th>\n",
       "      <th>MIN</th>\n",
       "      <th>TEMP1</th>\n",
       "      <th>TEMP2</th>\n",
       "      <th>Diff</th>\n",
       "      <th>Temp</th>\n",
       "      <th>YEARMODA_STR</th>\n",
       "      <th>YEAR_MONTH</th>\n",
       "    </tr>\n",
       "  </thead>\n",
       "  <tbody>\n",
       "    <tr>\n",
       "      <th>0</th>\n",
       "      <td>20240601</td>\n",
       "      <td>26.2</td>\n",
       "      <td>18.4</td>\n",
       "      <td>24.2</td>\n",
       "      <td>23.2</td>\n",
       "      <td>7.8</td>\n",
       "      <td>23.70</td>\n",
       "      <td>20240601</td>\n",
       "      <td>202406</td>\n",
       "    </tr>\n",
       "    <tr>\n",
       "      <th>1</th>\n",
       "      <td>20240602</td>\n",
       "      <td>24.4</td>\n",
       "      <td>17.1</td>\n",
       "      <td>20.7</td>\n",
       "      <td>24.2</td>\n",
       "      <td>7.3</td>\n",
       "      <td>22.45</td>\n",
       "      <td>20240602</td>\n",
       "      <td>202406</td>\n",
       "    </tr>\n",
       "    <tr>\n",
       "      <th>2</th>\n",
       "      <td>20240603</td>\n",
       "      <td>25.7</td>\n",
       "      <td>15.2</td>\n",
       "      <td>22.5</td>\n",
       "      <td>23.1</td>\n",
       "      <td>10.5</td>\n",
       "      <td>22.80</td>\n",
       "      <td>20240603</td>\n",
       "      <td>202406</td>\n",
       "    </tr>\n",
       "    <tr>\n",
       "      <th>3</th>\n",
       "      <td>20240604</td>\n",
       "      <td>24.6</td>\n",
       "      <td>15.7</td>\n",
       "      <td>19.3</td>\n",
       "      <td>24.6</td>\n",
       "      <td>8.9</td>\n",
       "      <td>21.95</td>\n",
       "      <td>20240604</td>\n",
       "      <td>202406</td>\n",
       "    </tr>\n",
       "    <tr>\n",
       "      <th>4</th>\n",
       "      <td>20240605</td>\n",
       "      <td>23.4</td>\n",
       "      <td>12.8</td>\n",
       "      <td>20.3</td>\n",
       "      <td>23.2</td>\n",
       "      <td>10.6</td>\n",
       "      <td>21.75</td>\n",
       "      <td>20240605</td>\n",
       "      <td>202406</td>\n",
       "    </tr>\n",
       "  </tbody>\n",
       "</table>\n",
       "</div>"
      ],
      "text/plain": [
       "   YEARMODA   MAX   MIN  TEMP1  TEMP2  Diff   Temp YEARMODA_STR YEAR_MONTH\n",
       "0  20240601  26.2  18.4   24.2   23.2   7.8  23.70     20240601     202406\n",
       "1  20240602  24.4  17.1   20.7   24.2   7.3  22.45     20240602     202406\n",
       "2  20240603  25.7  15.2   22.5   23.1  10.5  22.80     20240603     202406\n",
       "3  20240604  24.6  15.7   19.3   24.6   8.9  21.95     20240604     202406\n",
       "4  20240605  23.4  12.8   20.3   23.2  10.6  21.75     20240605     202406"
      ]
     },
     "execution_count": 65,
     "metadata": {},
     "output_type": "execute_result"
    }
   ],
   "source": [
    "df['YEAR_MONTH'] = df['YEARMODA_STR'].str.slice(start=0, stop=6)\n",
    "df.head()"
   ]
  },
  {
   "cell_type": "code",
   "execution_count": 70,
   "id": "7106e1db",
   "metadata": {},
   "outputs": [
    {
     "data": {
      "text/plain": [
       "array(['202406', '202407', '202408'], dtype=object)"
      ]
     },
     "execution_count": 70,
     "metadata": {},
     "output_type": "execute_result"
    }
   ],
   "source": [
    "df['YEAR_MONTH'].unique()"
   ]
  },
  {
   "cell_type": "code",
   "execution_count": 74,
   "id": "0346b95b",
   "metadata": {},
   "outputs": [],
   "source": [
    "grouped = df.groupby('YEAR_MONTH')"
   ]
  },
  {
   "cell_type": "code",
   "execution_count": 76,
   "id": "32205699",
   "metadata": {},
   "outputs": [
    {
     "data": {
      "text/plain": [
       "dict_keys(['202406', '202407', '202408'])"
      ]
     },
     "execution_count": 76,
     "metadata": {},
     "output_type": "execute_result"
    }
   ],
   "source": [
    "grouped.groups.keys()"
   ]
  },
  {
   "cell_type": "code",
   "execution_count": null,
   "id": "f074bf2e",
   "metadata": {},
   "outputs": [],
   "source": []
  },
  {
   "cell_type": "code",
   "execution_count": null,
   "id": "0d6a3960",
   "metadata": {},
   "outputs": [],
   "source": []
  },
  {
   "cell_type": "code",
   "execution_count": null,
   "id": "f0295ca6",
   "metadata": {},
   "outputs": [],
   "source": []
  },
  {
   "cell_type": "code",
   "execution_count": null,
   "id": "83c4462f",
   "metadata": {},
   "outputs": [],
   "source": []
  },
  {
   "cell_type": "code",
   "execution_count": null,
   "id": "0e8c5a17",
   "metadata": {},
   "outputs": [],
   "source": []
  }
 ],
 "metadata": {
  "kernelspec": {
   "display_name": "Python 3 (ipykernel)",
   "language": "python",
   "name": "python3"
  },
  "language_info": {
   "codemirror_mode": {
    "name": "ipython",
    "version": 3
   },
   "file_extension": ".py",
   "mimetype": "text/x-python",
   "name": "python",
   "nbconvert_exporter": "python",
   "pygments_lexer": "ipython3",
   "version": "3.12.3"
  }
 },
 "nbformat": 4,
 "nbformat_minor": 5
}
