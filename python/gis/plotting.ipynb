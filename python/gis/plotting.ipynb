{
 "cells": [
  {
   "cell_type": "code",
   "execution_count": 3,
   "id": "f0406291",
   "metadata": {},
   "outputs": [],
   "source": [
    "import pandas as pd\n",
    "import matplotlib.pyplot as plt\n",
    "import os"
   ]
  },
  {
   "cell_type": "code",
   "execution_count": 4,
   "id": "8609be0a",
   "metadata": {},
   "outputs": [
    {
     "data": {
      "text/plain": [
       "'/Users/rujalshrestha/Projects/mac-migration/python/gis'"
      ]
     },
     "execution_count": 4,
     "metadata": {},
     "output_type": "execute_result"
    }
   ],
   "source": [
    "os.getcwd()"
   ]
  },
  {
   "cell_type": "code",
   "execution_count": 5,
   "id": "26a59ea9",
   "metadata": {},
   "outputs": [],
   "source": [
    "data = pd.read_csv('temperatures.csv')"
   ]
  },
  {
   "cell_type": "code",
   "execution_count": 6,
   "id": "4e22505a",
   "metadata": {},
   "outputs": [
    {
     "data": {
      "text/html": [
       "<div>\n",
       "<style scoped>\n",
       "    .dataframe tbody tr th:only-of-type {\n",
       "        vertical-align: middle;\n",
       "    }\n",
       "\n",
       "    .dataframe tbody tr th {\n",
       "        vertical-align: top;\n",
       "    }\n",
       "\n",
       "    .dataframe thead th {\n",
       "        text-align: right;\n",
       "    }\n",
       "</style>\n",
       "<table border=\"1\" class=\"dataframe\">\n",
       "  <thead>\n",
       "    <tr style=\"text-align: right;\">\n",
       "      <th></th>\n",
       "      <th>Observation station</th>\n",
       "      <th>Year</th>\n",
       "      <th>Month</th>\n",
       "      <th>Day</th>\n",
       "      <th>Time [Local time]</th>\n",
       "      <th>Average temperature [°C]</th>\n",
       "      <th>Maximum temperature [°C]</th>\n",
       "      <th>Minimum temperature [°C]</th>\n",
       "      <th>Minimum ground temperature [°C]</th>\n",
       "    </tr>\n",
       "  </thead>\n",
       "  <tbody>\n",
       "    <tr>\n",
       "      <th>0</th>\n",
       "      <td>Inari Seitalaassa</td>\n",
       "      <td>2024</td>\n",
       "      <td>7</td>\n",
       "      <td>17</td>\n",
       "      <td>03:00</td>\n",
       "      <td>20.8</td>\n",
       "      <td>25.3</td>\n",
       "      <td>17.2</td>\n",
       "      <td>-</td>\n",
       "    </tr>\n",
       "    <tr>\n",
       "      <th>1</th>\n",
       "      <td>Inari Seitalaassa</td>\n",
       "      <td>2024</td>\n",
       "      <td>7</td>\n",
       "      <td>18</td>\n",
       "      <td>03:00</td>\n",
       "      <td>19.3</td>\n",
       "      <td>23.6</td>\n",
       "      <td>16.5</td>\n",
       "      <td>-</td>\n",
       "    </tr>\n",
       "    <tr>\n",
       "      <th>2</th>\n",
       "      <td>Inari Seitalaassa</td>\n",
       "      <td>2024</td>\n",
       "      <td>7</td>\n",
       "      <td>19</td>\n",
       "      <td>03:00</td>\n",
       "      <td>17.3</td>\n",
       "      <td>20.4</td>\n",
       "      <td>14.6</td>\n",
       "      <td>-</td>\n",
       "    </tr>\n",
       "    <tr>\n",
       "      <th>3</th>\n",
       "      <td>Inari Seitalaassa</td>\n",
       "      <td>2024</td>\n",
       "      <td>7</td>\n",
       "      <td>20</td>\n",
       "      <td>03:00</td>\n",
       "      <td>20.2</td>\n",
       "      <td>25.5</td>\n",
       "      <td>16.5</td>\n",
       "      <td>-</td>\n",
       "    </tr>\n",
       "    <tr>\n",
       "      <th>4</th>\n",
       "      <td>Inari Seitalaassa</td>\n",
       "      <td>2024</td>\n",
       "      <td>7</td>\n",
       "      <td>21</td>\n",
       "      <td>03:00</td>\n",
       "      <td>22.6</td>\n",
       "      <td>27.7</td>\n",
       "      <td>17.2</td>\n",
       "      <td>-</td>\n",
       "    </tr>\n",
       "  </tbody>\n",
       "</table>\n",
       "</div>"
      ],
      "text/plain": [
       "  Observation station  Year  Month  Day Time [Local time]  \\\n",
       "0   Inari Seitalaassa  2024      7   17             03:00   \n",
       "1   Inari Seitalaassa  2024      7   18             03:00   \n",
       "2   Inari Seitalaassa  2024      7   19             03:00   \n",
       "3   Inari Seitalaassa  2024      7   20             03:00   \n",
       "4   Inari Seitalaassa  2024      7   21             03:00   \n",
       "\n",
       "   Average temperature [°C]  Maximum temperature [°C]  \\\n",
       "0                      20.8                      25.3   \n",
       "1                      19.3                      23.6   \n",
       "2                      17.3                      20.4   \n",
       "3                      20.2                      25.5   \n",
       "4                      22.6                      27.7   \n",
       "\n",
       "   Minimum temperature [°C] Minimum ground temperature [°C]  \n",
       "0                      17.2                               -  \n",
       "1                      16.5                               -  \n",
       "2                      14.6                               -  \n",
       "3                      16.5                               -  \n",
       "4                      17.2                               -  "
      ]
     },
     "execution_count": 6,
     "metadata": {},
     "output_type": "execute_result"
    }
   ],
   "source": [
    "data.head()"
   ]
  },
  {
   "cell_type": "code",
   "execution_count": null,
   "id": "893362c1",
   "metadata": {},
   "outputs": [],
   "source": []
  },
  {
   "cell_type": "code",
   "execution_count": null,
   "id": "ddc9c3d7",
   "metadata": {},
   "outputs": [],
   "source": []
  },
  {
   "cell_type": "code",
   "execution_count": null,
   "id": "bf582a4e",
   "metadata": {},
   "outputs": [],
   "source": []
  },
  {
   "cell_type": "code",
   "execution_count": null,
   "id": "d0ef8d74",
   "metadata": {},
   "outputs": [],
   "source": []
  }
 ],
 "metadata": {
  "kernelspec": {
   "display_name": "Python 3",
   "language": "python",
   "name": "python3"
  },
  "language_info": {
   "codemirror_mode": {
    "name": "ipython",
    "version": 3
   },
   "file_extension": ".py",
   "mimetype": "text/x-python",
   "name": "python",
   "nbconvert_exporter": "python",
   "pygments_lexer": "ipython3",
   "version": "3.9.6"
  }
 },
 "nbformat": 4,
 "nbformat_minor": 5
}
